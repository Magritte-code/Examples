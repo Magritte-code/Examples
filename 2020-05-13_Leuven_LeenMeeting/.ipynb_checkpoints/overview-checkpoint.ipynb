{
 "cells": [
  {
   "cell_type": "markdown",
   "metadata": {
    "Collapsed": "false"
   },
   "source": [
    "# Tutorial team L.E.E.N. meeting\n",
    "---"
   ]
  },
  {
   "cell_type": "code",
   "execution_count": 1,
   "metadata": {
    "Collapsed": "false"
   },
   "outputs": [],
   "source": [
    "import matplotlib.pyplot as plt\n",
    "import numpy             as np\n",
    "import os, h5py, vtk, meshio, yt\n",
    "\n",
    "from vtk.util.numpy_support  import vtk_to_numpy, numpy_to_vtk\n",
    "from sys                     import path\n",
    "from copy                    import deepcopy\n",
    "from astropy                 import constants, units\n",
    "from scipy.spatial           import Delaunay, cKDTree\n",
    "from yt.funcs                import mylog\n",
    "mylog.setLevel(40) # This sets the log level to \"ERROR\"\n",
    "\n",
    "# Add Magritte's mesher/, setup/ and bin/ directories to the Python path.\n",
    "path.append(f'../Magritte/mesher/')\n",
    "path.append(f'../Magritte/setup/')\n",
    "path.append(f'../Magritte/bin/')\n",
    "\n",
    "# Import Magritte's Python modules and setup.\n",
    "from magritte   import Simulation\n",
    "from image      import Image\n",
    "from mesher     import *\n",
    "from configure  import read_config, write_config, configure, config_default"
   ]
  },
  {
   "cell_type": "code",
   "execution_count": null,
   "metadata": {
    "Collapsed": "false"
   },
   "outputs": [],
   "source": [
    "config['project folder'] = '../data/'\n",
    "config['model type'    ] = 'hdf5'\n",
    "config['model name'    ] = 'sph_erratic_0'"
   ]
  }
 ],
 "metadata": {
  "kernelspec": {
   "display_name": "Python 3",
   "language": "python",
   "name": "python3"
  },
  "language_info": {
   "codemirror_mode": {
    "name": "ipython",
    "version": 3
   },
   "file_extension": ".py",
   "mimetype": "text/x-python",
   "name": "python",
   "nbconvert_exporter": "python",
   "pygments_lexer": "ipython3",
   "version": "3.7.5"
  }
 },
 "nbformat": 4,
 "nbformat_minor": 4
}
