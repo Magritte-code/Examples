{
 "cells": [
  {
   "cell_type": "markdown",
   "metadata": {},
   "source": [
    "# Tutorial team L.E.E.N. meeting\n",
    "---"
   ]
  },
  {
   "cell_type": "markdown",
   "metadata": {
    "collapsed": "false"
   },
   "source": [
    "### Imports \n",
    "---"
   ]
  },
  {
   "cell_type": "markdown",
   "metadata": {
    "collapsed": "false"
   },
   "source": [
    "Import all the required modules."
   ]
  },
  {
   "cell_type": "code",
   "execution_count": 1,
   "metadata": {
    "collapsed": true,
    "jupyter": {
     "outputs_hidden": true
    }
   },
   "outputs": [],
   "source": [
    "import matplotlib.pyplot as plt\n",
    "import matplotlib.image  as image\n",
    "import ipywidgets        as widgets\n",
    "import numpy             as np\n",
    "\n",
    "from matplotlib.gridspec import GridSpec\n",
    "from matplotlib          import rcParams, rc\n",
    "from scipy.interpolate   import griddata\n",
    "from astropy             import constants\n",
    "from sys                 import path\n",
    "\n",
    "# Change the matplotlib default parameters\n",
    "rcParams.update({'font.size':   12})\n",
    "rcParams.update({'figure.dpi': 150})\n",
    "rc('font', family='serif')\n",
    "rc('text', usetex=True)\n",
    "\n",
    "# Add Magritte directory to the path and import the modules\n",
    "path.append(f'../Magritte/mesher/')\n",
    "path.append(f'../Magritte/setup/')\n",
    "from configure         import get_io, get_simulation\n",
    "from image             import Image"
   ]
  },
  {
   "cell_type": "markdown",
   "metadata": {
    "collapsed": "false"
   },
   "source": [
    "### Download the data\n",
    "---"
   ]
  },
  {
   "cell_type": "markdown",
   "metadata": {
    "collapsed": "false"
   },
   "source": [
    "Download the model from the owncloud server. (This might take a minute.)"
   ]
  },
  {
   "cell_type": "code",
   "execution_count": 2,
   "metadata": {
    "collapsed": true,
    "jupyter": {
     "outputs_hidden": true
    }
   },
   "outputs": [],
   "source": [
    "# link = 'https://owncloud.ster.kuleuven.be/index.php/s/o85x3C8SwFMecxf/download'\n",
    "# name = 'model.hdf5'\n",
    "\n",
    "# ! wget --output-document=$name $link "
   ]
  },
  {
   "cell_type": "markdown",
   "metadata": {
    "collapsed": "false"
   },
   "source": [
    "Alternatively,  use the model that was included in this demo."
   ]
  },
  {
   "cell_type": "code",
   "execution_count": 3,
   "metadata": {
    "collapsed": true,
    "jupyter": {
     "outputs_hidden": true
    }
   },
   "outputs": [],
   "source": [
    "name = '../data/model.hdf5'"
   ]
  },
  {
   "cell_type": "markdown",
   "metadata": {
    "collapsed": "false"
   },
   "source": [
    "### Load the data\n",
    "---"
   ]
  },
  {
   "cell_type": "markdown",
   "metadata": {
    "collapsed": "false"
   },
   "source": [
    "Create an `io` object that will take care of reading and writing data. Use the `io` object to read the simulation data and create a simulation object."
   ]
  },
  {
   "cell_type": "code",
   "execution_count": 4,
   "metadata": {
    "collapsed": true,
    "jupyter": {
     "outputs_hidden": true
    }
   },
   "outputs": [],
   "source": [
    "io         = get_io        (name)\n",
    "simulation = get_simulation(name)"
   ]
  },
  {
   "cell_type": "markdown",
   "metadata": {
    "collapsed": "false"
   },
   "source": [
    "### Assume LTE and ray-trace an image\n",
    "---"
   ]
  },
  {
   "cell_type": "markdown",
   "metadata": {
    "collapsed": "false"
   },
   "source": [
    "Choose a ray direction `raydir` along which to trace an image and a characteristic stepsize in frequency space `width`."
   ]
  },
  {
   "cell_type": "code",
   "execution_count": 5,
   "metadata": {
    "collapsed": true,
    "jupyter": {
     "outputs_hidden": true
    }
   },
   "outputs": [],
   "source": [
    "raydir = 0\n",
    "width  = 3.0e+3 / constants.c.si.value"
   ]
  },
  {
   "cell_type": "markdown",
   "metadata": {
    "collapsed": "false"
   },
   "source": [
    "Setup spectral discretization, boundary conditions (i.e. inward intensities at the boundary), and initial level populations."
   ]
  },
  {
   "cell_type": "code",
   "execution_count": 6,
   "metadata": {
    "collapsed": true,
    "jupyter": {
     "outputs_hidden": true
    }
   },
   "outputs": [
    {
     "data": {
      "text/plain": [
       "0"
      ]
     },
     "execution_count": 6,
     "metadata": {},
     "output_type": "execute_result"
    }
   ],
   "source": [
    "simulation.compute_spectral_discretisation_image (width)\n",
    "simulation.compute_boundary_intensities          ()\n",
    "simulation.compute_LTE_level_populations         ()"
   ]
  },
  {
   "cell_type": "markdown",
   "metadata": {
    "collapsed": "false"
   },
   "source": [
    "**Without** iteratively computing the Non-LTE level populations, directly trace an (LTE) image."
   ]
  },
  {
   "cell_type": "code",
   "execution_count": 7,
   "metadata": {
    "collapsed": true,
    "jupyter": {
     "outputs_hidden": true
    }
   },
   "outputs": [
    {
     "data": {
      "text/plain": [
       "0"
      ]
     },
     "execution_count": 7,
     "metadata": {},
     "output_type": "execute_result"
    }
   ],
   "source": [
    "simulation.compute_and_write_image (io, raydir)"
   ]
  },
  {
   "cell_type": "markdown",
   "metadata": {
    "collapsed": "false"
   },
   "source": [
    "Extract the image from the model file."
   ]
  },
  {
   "cell_type": "code",
   "execution_count": 8,
   "metadata": {
    "collapsed": true,
    "jupyter": {
     "outputs_hidden": true
    }
   },
   "outputs": [],
   "source": [
    "img = Image(io.io_file, raydir)"
   ]
  },
  {
   "cell_type": "markdown",
   "metadata": {
    "collapsed": "false"
   },
   "source": [
    "To clarify, plot the locations on the image of the points where we have intensity data."
   ]
  },
  {
   "cell_type": "code",
   "execution_count": 9,
   "metadata": {
    "collapsed": true,
    "jupyter": {
     "outputs_hidden": true
    }
   },
   "outputs": [
    {
     "name": "stderr",
     "output_type": "stream",
     "text": [
      "/home/frederik/software/Anaconda3/installation/envs/magritte/lib/python3.7/site-packages/ipykernel_launcher.py:3: MatplotlibDeprecationWarning: Adding an axes using the same arguments as a previous axes currently reuses the earlier instance.  In a future version, a new instance will always be created and returned.  Meanwhile, this warning can be suppressed, and the future behavior ensured, by passing a unique label to each axes instance.\n",
      "  This is separate from the ipykernel package so we can avoid doing imports until\n"
     ]
    },
    {
     "data": {
      "image/png": "[encoded data removed]",
      "text/plain": [
       "<Figure size 900x600 with 1 Axes>"
      ]
     },
     "metadata": {
      "needs_background": "light"
     },
     "output_type": "display_data"
    }
   ],
   "source": [
    "fig = plt.figure(dpi=150)\n",
    "plt.scatter(img.Xs, img.Ys, s=0.1)\n",
    "plt.axes().set_aspect('equal')\n",
    "plt.xlabel('image x [m]')\n",
    "plt.ylabel('image y [m]')\n",
    "plt.show()"
   ]
  },
  {
   "cell_type": "code",
   "execution_count": 10,
   "metadata": {
    "collapsed": true,
    "jupyter": {
     "outputs_hidden": true
    }
   },
   "outputs": [],
   "source": [
    "# Extract the number of frequency bins\n",
    "nfreqs = simulation.parameters.nfreqs()\n",
    "\n",
    "# Set number of pixels in x and y direction\n",
    "ngridx = 200\n",
    "ngridy = 200\n",
    "\n",
    "# Set a zoom factor\n",
    "zoom = 1.5\n",
    "\n",
    "# Set image boundaries\n",
    "x_min, x_max = np.min(img.Xs)/zoom, np.max(img.Xs)/zoom\n",
    "y_min, y_max = np.min(img.Ys)/zoom, np.max(img.Ys)/zoom\n",
    "\n",
    "# Create image grid values\n",
    "xs = np.linspace(x_min, x_max, ngridx)\n",
    "ys = np.linspace(y_min, y_max, ngridy)\n",
    "\n",
    "# Extract the spectral / velocity data\n",
    "freqs = np.array(simulation.radiation.frequencies.nu)[0]\n",
    "f_ij  = np.mean(freqs)\n",
    "velos = (freqs - f_ij) / f_ij * constants.c.si.value * 1.0e-3   # [km/s]\n",
    "\n",
    "# Interpolate the scattered data to an image (regular grid)\n",
    "Is = np.zeros((nfreqs))\n",
    "zs = np.zeros((nfreqs, ngridx, ngridy))\n",
    "for f in range(nfreqs):\n",
    "    zs[f] = griddata((img.Xs, img.Ys), img.Im[:,f], (xs[None,:], ys[:,None]), method='nearest')\n",
    "    Is[f] = np.sum(zs[f])\n",
    "Is = Is / np.max(Is)\n",
    "\n",
    "# Get the logarithm of the data (matplotlib has a hard time handling logarithmic data.)\n",
    "log_zs     = np.log(zs)\n",
    "log_zs_min = np.min(log_zs)\n",
    "log_zs_max = np.max(log_zs)"
   ]
  },
  {
   "cell_type": "markdown",
   "metadata": {
    "collapsed": "false"
   },
   "source": [
    "Make a plot of the (logarithm of the) image data. Capture the output to avoid flooding the notebook."
   ]
  },
  {
   "cell_type": "code",
   "execution_count": 21,
   "metadata": {
    "collapsed": true,
    "jupyter": {
     "outputs_hidden": true
    }
   },
   "outputs": [],
   "source": [
    "%%capture\n",
    "\n",
    "figs = []\n",
    "gs   = GridSpec(1,2, wspace=.1, width_ratios=[2, 1])\n",
    "\n",
    "for f in range(nfreqs):\n",
    "    \n",
    "    fig = plt.figure(dpi=150)\n",
    "    \n",
    "    ax1 = fig.add_subplot(gs[0])\n",
    "    ax1.contourf(xs, ys, log_zs[f], cmap='magma', vmin=log_zs_min, vmax=log_zs_max, levels=50)\n",
    "    ax1.set_aspect('equal')\n",
    "    ax1.set_xlabel('image x [m]', labelpad = 10)\n",
    "    ax1.set_ylabel('image y [m]', labelpad = 10)\n",
    "    \n",
    "    ax2 = fig.add_subplot(gs[1])\n",
    "    ax2.plot(velos, Is/np.max(Is))\n",
    "    ax2.yaxis.set_label_position(\"right\")\n",
    "    ax2.yaxis.tick_right()\n",
    "    ax2.axvline(velos[f], c='red')\n",
    "    ax2.set_ylabel('Relative intensity', labelpad=15)\n",
    "    ax2.set_xlabel('velocity [km/s]',    labelpad=10)\n",
    "    asp = 2*np.diff(ax2.get_xlim())[0] / np.diff(ax2.get_ylim())[0]\n",
    "    ax2.set_aspect(asp)\n",
    "    \n",
    "    plt.savefig(f\"image_{f:0>3d}.png\", bbox_inches='tight')\n",
    "    \n",
    "    figs.append(fig)"
   ]
  },
  {
   "cell_type": "markdown",
   "metadata": {
    "collapsed": "false"
   },
   "source": [
    "Create a simple slider to \"walk\" through the synthetic data."
   ]
  },
  {
   "cell_type": "code",
   "execution_count": 12,
   "metadata": {},
   "outputs": [
    {
     "data": {
      "application/vnd.jupyter.widget-view+json": {
       "model_id": "0adbc3c30cc6411590bc12f26e6dd976",
       "version_major": 2,
       "version_minor": 0
      },
      "text/plain": [
       "interactive(children=(IntSlider(value=37, description='f', max=74), Output()), _dom_classes=('widget-interact'…"
      ]
     },
     "metadata": {},
     "output_type": "display_data"
    },
    {
     "data": {
      "text/plain": [
       "<function __main__.<lambda>(f)>"
      ]
     },
     "execution_count": 12,
     "metadata": {},
     "output_type": "execute_result"
    }
   ],
   "source": [
    "widgets.interact(lambda f: figs[f], f=(0, len(figs)-1, 1))"
   ]
  },
  {
   "cell_type": "code",
   "execution_count": 14,
   "metadata": {
    "collapsed": true,
    "jupyter": {
     "outputs_hidden": true
    }
   },
   "outputs": [],
   "source": []
  },
  {
   "cell_type": "code",
   "execution_count": 22,
   "metadata": {
    "collapsed": true,
    "jupyter": {
     "outputs_hidden": true
    }
   },
   "outputs": [
    {
     "data": {
      "text/plain": [
       "['image_000.png',\n",
       " 'image_001.png',\n",
       " 'image_002.png',\n",
       " 'image_003.png',\n",
       " 'image_004.png',\n",
       " 'image_005.png',\n",
       " 'image_006.png',\n",
       " 'image_007.png',\n",
       " 'image_008.png',\n",
       " 'image_009.png',\n",
       " 'image_010.png',\n",
       " 'image_011.png',\n",
       " 'image_012.png',\n",
       " 'image_013.png',\n",
       " 'image_014.png',\n",
       " 'image_015.png',\n",
       " 'image_016.png',\n",
       " 'image_017.png',\n",
       " 'image_018.png',\n",
       " 'image_019.png',\n",
       " 'image_020.png',\n",
       " 'image_021.png',\n",
       " 'image_022.png',\n",
       " 'image_023.png',\n",
       " 'image_024.png',\n",
       " 'image_025.png',\n",
       " 'image_026.png',\n",
       " 'image_027.png',\n",
       " 'image_028.png',\n",
       " 'image_029.png',\n",
       " 'image_030.png',\n",
       " 'image_031.png',\n",
       " 'image_032.png',\n",
       " 'image_033.png',\n",
       " 'image_034.png',\n",
       " 'image_035.png',\n",
       " 'image_036.png',\n",
       " 'image_037.png',\n",
       " 'image_038.png',\n",
       " 'image_039.png',\n",
       " 'image_040.png',\n",
       " 'image_041.png',\n",
       " 'image_042.png',\n",
       " 'image_043.png',\n",
       " 'image_044.png',\n",
       " 'image_045.png',\n",
       " 'image_046.png',\n",
       " 'image_047.png',\n",
       " 'image_048.png',\n",
       " 'image_049.png',\n",
       " 'image_050.png',\n",
       " 'image_051.png',\n",
       " 'image_052.png',\n",
       " 'image_053.png',\n",
       " 'image_054.png',\n",
       " 'image_055.png',\n",
       " 'image_056.png',\n",
       " 'image_057.png',\n",
       " 'image_058.png',\n",
       " 'image_059.png',\n",
       " 'image_060.png',\n",
       " 'image_061.png',\n",
       " 'image_062.png',\n",
       " 'image_063.png',\n",
       " 'image_064.png',\n",
       " 'image_065.png',\n",
       " 'image_066.png',\n",
       " 'image_067.png',\n",
       " 'image_068.png',\n",
       " 'image_069.png',\n",
       " 'image_070.png',\n",
       " 'image_071.png',\n",
       " 'image_072.png',\n",
       " 'image_073.png',\n",
       " 'image_074.png']"
      ]
     },
     "execution_count": 22,
     "metadata": {},
     "output_type": "execute_result"
    }
   ],
   "source": [
    "from glob import glob\n",
    "fileNames = glob(\"image*.png\")\n",
    "fileNames.sort()\n",
    "fileNames"
   ]
  },
  {
   "cell_type": "code",
   "execution_count": 23,
   "metadata": {
    "collapsed": true,
    "jupyter": {
     "outputs_hidden": true
    }
   },
   "outputs": [],
   "source": [
    "import imageio\n",
    "images = []\n",
    "for filename in fileNames:\n",
    "    images.append(imageio.imread(filename))\n",
    "imageio.mimsave('movie.gif', images)"
   ]
  },
  {
   "cell_type": "code",
   "execution_count": 10,
   "metadata": {
    "collapsed": true,
    "jupyter": {
     "outputs_hidden": true
    }
   },
   "outputs": [
    {
     "data": {
      "text/plain": [
       "3.41515201503345e-18"
      ]
     },
     "execution_count": 10,
     "metadata": {},
     "output_type": "execute_result"
    }
   ],
   "source": [
    "np.min(img.Im)"
   ]
  },
  {
   "cell_type": "code",
   "execution_count": 11,
   "metadata": {
    "collapsed": true,
    "jupyter": {
     "outputs_hidden": true
    }
   },
   "outputs": [
    {
     "data": {
      "text/plain": [
       "7.282983635442486e-15"
      ]
     },
     "execution_count": 11,
     "metadata": {},
     "output_type": "execute_result"
    }
   ],
   "source": [
    "np.max(img.Im)"
   ]
  },
  {
   "cell_type": "code",
   "execution_count": null,
   "metadata": {
    "collapsed": true,
    "jupyter": {
     "outputs_hidden": true
    }
   },
   "outputs": [],
   "source": []
  }
 ],
 "metadata": {
  "kernelspec": {
   "display_name": "Python 3",
   "language": "python",
   "name": "python3"
  },
  "language_info": {
   "codemirror_mode": {
    "name": "ipython",
    "version": 3
   },
   "file_extension": ".py",
   "mimetype": "text/x-python",
   "name": "python",
   "nbconvert_exporter": "python",
   "pygments_lexer": "ipython3",
   "version": "3.7.5"
  }
 },
 "nbformat": 4,
 "nbformat_minor": 4
}
