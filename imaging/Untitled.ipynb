{
 "cells": [
  {
   "cell_type": "code",
   "execution_count": 1,
   "metadata": {},
   "outputs": [
    {
     "name": "stdout",
     "output_type": "stream",
     "text": [
      "Info    : Running 'gmsh /home/frederik/Dropbox/GitHub/Magritte/tests//models//vanZadelhoff_1_3D_mesher.geo -3 -saveall -o /home/frederik/Dropbox/GitHub/Magritte/tests//models//vanZadelhoff_1_3D_mesher.vtk' [Gmsh 4.4.1, 1 node, max. 1 thread]\n",
      "Info    : Started on Fri Jan 29 08:16:55 2021\n",
      "Info    : Reading '/home/frederik/Dropbox/GitHub/Magritte/tests//models//vanZadelhoff_1_3D_mesher.geo'...\n",
      "Info    : Done reading '/home/frederik/Dropbox/GitHub/Magritte/tests//models//vanZadelhoff_1_3D_mesher.geo'\n",
      "Info    : Meshing 1D...\n",
      "Info    : Meshing curve 101 (Circle)\n",
      "Info    : Meshing curve 102 (Circle)\n",
      "Info    : Meshing curve 103 (Circle)\n",
      "Info    : Meshing curve 104 (Circle)\n",
      "Info    : Meshing curve 105 (Circle)\n",
      "Info    : Meshing curve 106 (Circle)\n",
      "Info    : Meshing curve 107 (Circle)\n",
      "Info    : Meshing curve 108 (Circle)\n",
      "Info    : Meshing curve 109 (Circle)\n",
      "Info    : Meshing curve 110 (Circle)\n",
      "Info    : Meshing curve 111 (Circle)\n",
      "Info    : Meshing curve 112 (Circle)\n",
      "Info    : Meshing curve 201 (Circle)\n",
      "Info    : Meshing curve 202 (Circle)\n",
      "Info    : Meshing curve 203 (Circle)\n",
      "Info    : Meshing curve 204 (Circle)\n",
      "Info    : Meshing curve 205 (Circle)\n",
      "Info    : Meshing curve 206 (Circle)\n",
      "Info    : Meshing curve 207 (Circle)\n",
      "Info    : Meshing curve 208 (Circle)\n",
      "Info    : Meshing curve 209 (Circle)\n",
      "Info    : Meshing curve 210 (Circle)\n",
      "Info    : Meshing curve 211 (Circle)\n",
      "Info    : Meshing curve 212 (Circle)\n",
      "Info    : Done meshing 1D (0.019942 s)\n",
      "Info    : Meshing 2D...\n",
      "Info    : Meshing surface 114 (Surface, MeshAdapt)\n",
      "Info    : Meshing surface 116 (Surface, MeshAdapt)\n",
      "Info    : Meshing surface 118 (Surface, MeshAdapt)\n",
      "Info    : Meshing surface 120 (Surface, MeshAdapt)\n",
      "Info    : Meshing surface 122 (Surface, MeshAdapt)\n",
      "Info    : Meshing surface 124 (Surface, MeshAdapt)\n",
      "Info    : Meshing surface 126 (Surface, MeshAdapt)\n",
      "Info    : Meshing surface 128 (Surface, MeshAdapt)\n",
      "Info    : Meshing surface 214 (Surface, MeshAdapt)\n",
      "Info    : Meshing surface 216 (Surface, MeshAdapt)\n",
      "Info    : Meshing surface 218 (Surface, MeshAdapt)\n",
      "Info    : Meshing surface 220 (Surface, MeshAdapt)\n",
      "Info    : Meshing surface 222 (Surface, MeshAdapt)\n",
      "Info    : Meshing surface 224 (Surface, MeshAdapt)\n",
      "Info    : Meshing surface 226 (Surface, MeshAdapt)\n",
      "Info    : Meshing surface 228 (Surface, MeshAdapt)\n",
      "Info    : Done meshing 2D (13.345 s)\n",
      "Info    : Meshing 3D...\n",
      "Info    : 3D Meshing 1 volumes with 1 connected components\n",
      "Info    : Tetrahedrization of 3680 points in 0.143523 seconds\n",
      "Info    : Reconstructing mesh...\n",
      "Info    :  - Creating surface mesh\n",
      "Info    :  - Identifying boundary edges\n",
      "Info    :  - Recovering boundary\n",
      "Info    : Done reconstructing mesh (0.21285 s)\n",
      "Info    : Found region 130\n",
      "Info    : Found void region\n",
      "Info    : 0 points created - worst tet radius 39.3114 (points removed 0 0)\n",
      "Info    : 500 points created - worst tet radius 3.33113 (points removed 0 0)\n",
      "Info    : 1000 points created - worst tet radius 2.57776 (points removed 0 0)\n",
      "Info    : 1500 points created - worst tet radius 2.2411 (points removed 0 0)\n",
      "Info    : 2000 points created - worst tet radius 2.02719 (points removed 0 0)\n",
      "Info    : 2500 points created - worst tet radius 1.88315 (points removed 0 0)\n",
      "Info    : 3000 points created - worst tet radius 1.76485 (points removed 0 0)\n",
      "Info    : 3500 points created - worst tet radius 1.67616 (points removed 0 0)\n",
      "Info    : 4000 points created - worst tet radius 1.60234 (points removed 0 0)\n",
      "Info    : 4500 points created - worst tet radius 3.43839 (points removed 0 0)\n",
      "Info    : 5000 points created - worst tet radius 1.97352 (points removed 0 0)\n",
      "Info    : 5500 points created - worst tet radius 1.59566 (points removed 0 0)\n",
      "Info    : 6000 points created - worst tet radius 1.53389 (points removed 0 0)\n",
      "Info    : 6500 points created - worst tet radius 1.49426 (points removed 0 0)\n",
      "Info    : 7000 points created - worst tet radius 1.45603 (points removed 0 0)\n",
      "Info    : 7500 points created - worst tet radius 1.42172 (points removed 0 0)\n",
      "Info    : 8000 points created - worst tet radius 1.39021 (points removed 0 0)\n",
      "Info    : 8500 points created - worst tet radius 1.36188 (points removed 0 0)\n",
      "Info    : 9000 points created - worst tet radius 1.3357 (points removed 0 0)\n",
      "Info    : 9500 points created - worst tet radius 1.31249 (points removed 0 0)\n",
      "Info    : 10000 points created - worst tet radius 1.29063 (points removed 0 0)\n",
      "Info    : 10500 points created - worst tet radius 1.26996 (points removed 0 0)\n",
      "Info    : 11000 points created - worst tet radius 1.2514 (points removed 0 0)\n",
      "Info    : 11500 points created - worst tet radius 1.23212 (points removed 0 0)\n",
      "Info    : 12000 points created - worst tet radius 1.2134 (points removed 0 0)\n",
      "Info    : 12500 points created - worst tet radius 1.1965 (points removed 0 0)\n",
      "Info    : 13000 points created - worst tet radius 1.18031 (points removed 0 0)\n",
      "Info    : 13500 points created - worst tet radius 1.16593 (points removed 0 0)\n",
      "Info    : 14000 points created - worst tet radius 1.15078 (points removed 0 0)\n",
      "Info    : 14500 points created - worst tet radius 1.13623 (points removed 0 0)\n",
      "Info    : 15000 points created - worst tet radius 1.12386 (points removed 0 0)\n",
      "Info    : 15500 points created - worst tet radius 1.11176 (points removed 0 0)\n",
      "Info    : 16000 points created - worst tet radius 1.1 (points removed 0 0)\n",
      "Info    : 16500 points created - worst tet radius 1.08908 (points removed 0 0)\n",
      "Info    : 17000 points created - worst tet radius 1.07858 (points removed 0 0)\n",
      "Info    : 17500 points created - worst tet radius 1.06839 (points removed 0 0)\n",
      "Info    : 18000 points created - worst tet radius 1.05784 (points removed 0 0)\n",
      "Info    : 18500 points created - worst tet radius 1.04818 (points removed 0 0)\n",
      "Info    : 19000 points created - worst tet radius 1.03796 (points removed 0 0)\n",
      "Info    : 19500 points created - worst tet radius 1.02915 (points removed 0 0)\n",
      "Info    : 20000 points created - worst tet radius 1.02067 (points removed 0 0)\n",
      "Info    : 20500 points created - worst tet radius 1.01181 (points removed 0 0)\n",
      "Info    : 21000 points created - worst tet radius 1.00297 (points removed 0 0)\n",
      "Info    : 3D point insertion terminated (24881 points created):\n",
      "Info    :  - 0 Delaunay cavities modified for star shapeness\n",
      "Info    :  - 0 points could not be inserted\n",
      "Info    :  - 146428 tetrahedra created in 1.61459 sec. (90690 tets/s)\n",
      "Info    : Done meshing 3D (2.22627 s)\n",
      "Info    : Optimizing 3D mesh...\n",
      "Info    : Optimizing volume 130\n",
      "Info    : Optimization starts (volume = 1.98146e+51) with worst = 0.00456086 / average = 0.78136:\n",
      "Info    : 0.00 < quality < 0.10 :       262 elements\n",
      "Info    : 0.10 < quality < 0.20 :       859 elements\n",
      "Info    : 0.20 < quality < 0.30 :      1548 elements\n",
      "Info    : 0.30 < quality < 0.40 :      2519 elements\n",
      "Info    : 0.40 < quality < 0.50 :      4137 elements\n",
      "Info    : 0.50 < quality < 0.60 :      7088 elements\n",
      "Info    : 0.60 < quality < 0.70 :     14423 elements\n",
      "Info    : 0.70 < quality < 0.80 :     32682 elements\n",
      "Info    : 0.80 < quality < 0.90 :     54234 elements\n",
      "Info    : 0.90 < quality < 1.00 :     28676 elements\n",
      "Info    : 2620 edge swaps, 86 node relocations (volume = 1.98146e+51): worst = 0.133209 / average = 0.792565 (0.093187 s)\n",
      "Info    : 2634 edge swaps, 93 node relocations (volume = 1.98146e+51): worst = 0.266917 / average = 0.792594 (0.120554 s)\n",
      "Info    : 2636 edge swaps, 95 node relocations (volume = 1.98146e+51): worst = 0.270067 / average = 0.792602 (0.147734 s)\n",
      "Info    : No ill-shaped tets in the mesh :-)\n",
      "Info    : 0.00 < quality < 0.10 :         0 elements\n",
      "Info    : 0.10 < quality < 0.20 :         0 elements\n",
      "Info    : 0.20 < quality < 0.30 :         4 elements\n",
      "Info    : 0.30 < quality < 0.40 :      2495 elements\n",
      "Info    : 0.40 < quality < 0.50 :      3994 elements\n",
      "Info    : 0.50 < quality < 0.60 :      6903 elements\n",
      "Info    : 0.60 < quality < 0.70 :     14405 elements\n",
      "Info    : 0.70 < quality < 0.80 :     33153 elements\n",
      "Info    : 0.80 < quality < 0.90 :     54662 elements\n",
      "Info    : 0.90 < quality < 1.00 :     28455 elements\n",
      "Info    : Done optimizing 3D mesh (0.390702 s)\n",
      "Info    : 24883 vertices 151853 elements\n",
      "Info    : Writing '/home/frederik/Dropbox/GitHub/Magritte/tests//models//vanZadelhoff_1_3D_mesher.vtk'...\n",
      "Info    : Done writing '/home/frederik/Dropbox/GitHub/Magritte/tests//models//vanZadelhoff_1_3D_mesher.vtk'\n",
      "Info    : Stopped on Fri Jan 29 08:17:11 2021\n"
     ]
    }
   ],
   "source": [
    "import os\n",
    "import sys\n",
    "\n",
    "curdir = '/home/frederik/Dropbox/GitHub/Magritte/tests/'\n",
    "datdir = f'{curdir}/data/'\n",
    "moddir = f'{curdir}/models/'\n",
    "resdir = f'{curdir}/results/'\n",
    "\n",
    "import numpy             as np\n",
    "import scipy             as sp\n",
    "import healpy            as hp\n",
    "import matplotlib.pyplot as plt\n",
    "import magritte.tools    as tools\n",
    "import magritte.setup    as setup\n",
    "import magritte.mesher   as mesher\n",
    "import magritte.core     as magritte\n",
    "\n",
    "from scipy.interpolate import interp1d\n",
    "\n",
    "\n",
    "dimension = 3\n",
    "nrays     = 12*3**2\n",
    "nspecs    = 5\n",
    "nlspecs   = 1\n",
    "nquads    = 2\n",
    "\n",
    "r_in   = 1.0E13   # [m]\n",
    "r_out  = 7.8E16   # [m]\n",
    "nH2_in = 2.0E13   # [m^-3]\n",
    "temp   = 20.0     # [K]\n",
    "turb   = 150.00   # [.]\n",
    "\n",
    "get_X_mol = {\n",
    "    'a' : 1.0E-8,\n",
    "    'b' : 1.0E-6\n",
    "}\n",
    "\n",
    "scale_max = 0.09 * r_out\n",
    "scale_min = 0.09 * r_in\n",
    "scale_cte = 0.09 * r_in\n",
    "scale_fun = f'{scale_cte / r_in**2} * (x*x + y*y + z*z)'\n",
    "\n",
    "meshName = f'{moddir}/vanZadelhoff_1_3D_mesher.vtk'\n",
    "\n",
    "mesher.create_mesh_from_function(\n",
    "    meshName       = meshName,\n",
    "    boundary       = mesher.boundary_sphere_in_sphere(\n",
    "                         radius_in  = r_in,\n",
    "                         radius_out = r_out),\n",
    "    scale_min      = scale_min,\n",
    "    scale_max      = scale_max,\n",
    "    scale_function = scale_fun )"
   ]
  },
  {
   "cell_type": "code",
   "execution_count": 2,
   "metadata": {},
   "outputs": [
    {
     "name": "stdout",
     "output_type": "stream",
     "text": [
      "0\n"
     ]
    },
    {
     "name": "stderr",
     "output_type": "stream",
     "text": [
      "/home/frederik/software/Anaconda3/installation/envs/magritte/lib/python3.6/site-packages/numpy/core/_asarray.py:83: VisibleDeprecationWarning: Creating an ndarray from ragged nested sequences (which is a list-or-tuple of lists-or-tuples-or ndarrays with different lengths or shapes) is deprecated. If you meant to do this, you must specify 'dtype=object' when creating the ndarray\n",
      "  return array(a, dtype, copy=False, order=order)\n"
     ]
    },
    {
     "name": "stdout",
     "output_type": "stream",
     "text": [
      "6\n"
     ]
    },
    {
     "data": {
      "text/plain": [
       "0"
      ]
     },
     "execution_count": 2,
     "metadata": {},
     "output_type": "execute_result"
    }
   ],
   "source": [
    "mesh = mesher.Mesh(meshName)\n",
    "\n",
    "npoints = len(mesh.points)\n",
    "nbs     = [n for sublist in mesh.neighbors for n in sublist]\n",
    "n_nbs   = [len(sublist) for sublist in mesh.neighbors]\n",
    "\n",
    "rs = np.linalg.norm(mesh.points, axis=1)\n",
    "\n",
    "\n",
    "a_or_b = 'a'\n",
    "\n",
    "modelName = f'vanZadelhoff_1{a_or_b}_3D_mesher'\n",
    "modelFile = f'{moddir}{modelName}.hdf5'\n",
    "lamdaFile = f'{datdir}test.txt'\n",
    "\n",
    "X_mol = get_X_mol[a_or_b]\n",
    "\n",
    "def nH2 (r):\n",
    "    return nH2_in * np.power(r_in/r, 2.0)\n",
    "\n",
    "def nTT (r):\n",
    "    return X_mol * nH2(r)\n",
    "\n",
    "model = magritte.Model ()\n",
    "model.parameters.set_spherical_symmetry(False)\n",
    "model.parameters.set_pop_prec          (1.0e-6)\n",
    "model.parameters.set_model_name        (modelFile)\n",
    "model.parameters.set_dimension         (dimension)\n",
    "model.parameters.set_npoints           (npoints)\n",
    "model.parameters.set_nrays             (nrays)\n",
    "model.parameters.set_nspecs            (nspecs)\n",
    "model.parameters.set_nlspecs           (nlspecs)\n",
    "model.parameters.set_nquads            (nquads)\n",
    "\n",
    "model.geometry.points.position.set(mesh.points)\n",
    "model.geometry.points.velocity.set(np.zeros((npoints, 3)))\n",
    "\n",
    "model.geometry.points.  neighbors.set(  nbs)\n",
    "model.geometry.points.n_neighbors.set(n_nbs)\n",
    "\n",
    "model.chemistry.species.abundance = [[     0.0, nTT(r), nH2(r),  0.0,      1.0] for r in rs]\n",
    "model.chemistry.species.symbol    =  ['dummy0', 'test',   'H2', 'e-', 'dummy1']\n",
    "\n",
    "model.thermodynamics.temperature.gas  .set( temp                 * np.ones(npoints))\n",
    "model.thermodynamics.turbulence.vturb2.set((turb/magritte.CC)**2 * np.ones(npoints))\n",
    "\n",
    "model.parameters.set_nboundary(len(mesh.boundary))\n",
    "model.geometry.boundary.boundary2point.set(mesh.boundary)\n",
    "\n",
    "model = setup.set_boundary_condition_CMB  (model)\n",
    "model = setup.set_uniform_rays            (model)\n",
    "model = setup.set_linedata_from_LAMDA_file(model, lamdaFile)\n",
    "model = setup.set_quadrature              (model)\n",
    "\n",
    "model.write()\n",
    "\n",
    "model = magritte.Model (modelFile)\n",
    "model.compute_spectral_discretisation ()\n",
    "model.compute_inverse_line_widths     ()\n",
    "model.compute_LTE_level_populations   ()"
   ]
  },
  {
   "cell_type": "code",
   "execution_count": 3,
   "metadata": {},
   "outputs": [
    {
     "data": {
      "text/plain": [
       "24881"
      ]
     },
     "execution_count": 3,
     "metadata": {},
     "output_type": "execute_result"
    }
   ],
   "source": [
    "model.parameters.npoints()"
   ]
  },
  {
   "cell_type": "code",
   "execution_count": 4,
   "metadata": {},
   "outputs": [],
   "source": [
    "fcen = model.lines.lineProducingSpecies[0].linedata.frequency[0]\n",
    "vpix = 100\n",
    "dd = vpix * (model.parameters.nfreqs()-1)/2 / magritte.CC\n",
    "fmin = fcen - fcen*dd\n",
    "fmax = fcen + fcen*dd\n",
    "\n",
    "model.compute_spectral_discretisation (fmin, fmax)\n",
    "model.compute_image (model.parameters.hnrays()-1)\n",
    "\n",
    "imx = np.array(model.images[-1].ImX)\n",
    "imy = np.array(model.images[-1].ImY)\n",
    "imI = np.array(model.images[-1].I)\n",
    "imv = np.array(model.radiation.frequencies.nu)[0]"
   ]
  },
  {
   "cell_type": "code",
   "execution_count": 5,
   "metadata": {},
   "outputs": [
    {
     "data": {
      "text/plain": [
       "0"
      ]
     },
     "execution_count": 5,
     "metadata": {},
     "output_type": "execute_result"
    }
   ],
   "source": [
    "np.count_nonzero(np.isnan(imI)) // model.parameters.nfreqs()"
   ]
  },
  {
   "cell_type": "code",
   "execution_count": 6,
   "metadata": {},
   "outputs": [],
   "source": [
    "rss = np.linalg.norm(model.geometry.points.position, axis=1)\n",
    "abn = np.array(model.chemistry.species.abundance)[:,1]"
   ]
  },
  {
   "cell_type": "code",
   "execution_count": 7,
   "metadata": {},
   "outputs": [],
   "source": [
    "import matplotlib.pyplot as plt"
   ]
  },
  {
   "cell_type": "code",
   "execution_count": 8,
   "metadata": {},
   "outputs": [
    {
     "data": {
      "image/png": "[encoded data removed]",
      "text/plain": [
       "<Figure size 432x288 with 1 Axes>"
      ]
     },
     "metadata": {
      "needs_background": "light"
     },
     "output_type": "display_data"
    }
   ],
   "source": [
    "plt.scatter(rss, abn)\n",
    "plt.xscale('log')\n",
    "plt.yscale('log')"
   ]
  },
  {
   "cell_type": "code",
   "execution_count": 9,
   "metadata": {},
   "outputs": [
    {
     "data": {
      "text/plain": [
       "1.1454452359569806899e-41"
      ]
     },
     "execution_count": 9,
     "metadata": {},
     "output_type": "execute_result"
    }
   ],
   "source": [
    "np.min(np.array(model.lines.emissivity))"
   ]
  },
  {
   "cell_type": "code",
   "execution_count": 10,
   "metadata": {},
   "outputs": [
    {
     "data": {
      "text/plain": [
       "7.20481425990325241e-26"
      ]
     },
     "execution_count": 10,
     "metadata": {},
     "output_type": "execute_result"
    }
   ],
   "source": [
    "np.min(np.array(model.lines.opacity))"
   ]
  },
  {
   "cell_type": "code",
   "execution_count": 11,
   "metadata": {},
   "outputs": [
    {
     "data": {
      "text/plain": [
       "array([[1.79875445e+11, 1.79875505e+11],\n",
       "       [1.79875445e+11, 1.79875505e+11],\n",
       "       [1.79875445e+11, 1.79875505e+11],\n",
       "       ...,\n",
       "       [1.79875445e+11, 1.79875505e+11],\n",
       "       [1.79875445e+11, 1.79875505e+11],\n",
       "       [1.79875445e+11, 1.79875505e+11]], dtype=float128)"
      ]
     },
     "execution_count": 11,
     "metadata": {},
     "output_type": "execute_result"
    }
   ],
   "source": [
    "np.array(model.radiation.frequencies.nu)"
   ]
  },
  {
   "cell_type": "code",
   "execution_count": null,
   "metadata": {},
   "outputs": [],
   "source": []
  }
 ],
 "metadata": {
  "kernelspec": {
   "display_name": "Python 3",
   "language": "python",
   "name": "python3"
  },
  "language_info": {
   "codemirror_mode": {
    "name": "ipython",
    "version": 3
   },
   "file_extension": ".py",
   "mimetype": "text/x-python",
   "name": "python",
   "nbconvert_exporter": "python",
   "pygments_lexer": "ipython3",
   "version": "3.6.12"
  }
 },
 "nbformat": 4,
 "nbformat_minor": 4
}
